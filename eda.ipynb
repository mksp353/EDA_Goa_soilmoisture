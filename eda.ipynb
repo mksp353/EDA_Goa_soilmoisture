{
 "cells": [
  {
   "cell_type": "markdown",
   "metadata": {},
   "source": [
    "EDA of soil moisture of the state of Goa (2018 and 2020)"
   ]
  },
  {
   "cell_type": "code",
   "execution_count": 57,
   "metadata": {},
   "outputs": [],
   "source": [
    "#imports \n",
    "import pandas as pd\n",
    "import numpy as np\n",
    "import matplotlib.pyplot as plt\n",
    "import seaborn as sns"
   ]
  },
  {
   "cell_type": "code",
   "execution_count": 43,
   "metadata": {},
   "outputs": [],
   "source": [
    "#opens the csv files (sm_Goa_2018 and sm_Goa_2020)\n",
    "df_sm_18=pd.read_csv(r'C:\\Users\\Malhar\\OneDrive\\Desktop\\python\\goa_soil_moisture\\sm_Goa_2018.csv')\n",
    "df_sm_20=pd.read_csv(r'C:\\Users\\Malhar\\OneDrive\\Desktop\\python\\goa_soil_moisture\\sm_Goa_2020.csv')"
   ]
  },
  {
   "cell_type": "code",
   "execution_count": 44,
   "metadata": {},
   "outputs": [
    {
     "data": {
      "text/html": [
       "<div>\n",
       "<style scoped>\n",
       "    .dataframe tbody tr th:only-of-type {\n",
       "        vertical-align: middle;\n",
       "    }\n",
       "\n",
       "    .dataframe tbody tr th {\n",
       "        vertical-align: top;\n",
       "    }\n",
       "\n",
       "    .dataframe thead th {\n",
       "        text-align: right;\n",
       "    }\n",
       "</style>\n",
       "<table border=\"1\" class=\"dataframe\">\n",
       "  <thead>\n",
       "    <tr style=\"text-align: right;\">\n",
       "      <th></th>\n",
       "      <th>Date</th>\n",
       "      <th>State Name</th>\n",
       "      <th>DistrictName</th>\n",
       "      <th>Average Soilmoisture Level (at 15cm)</th>\n",
       "      <th>Average SoilMoisture Volume (at 15cm)</th>\n",
       "      <th>Aggregate Soilmoisture Percentage (at 15cm)</th>\n",
       "      <th>Volume Soilmoisture percentage (at 15cm)</th>\n",
       "    </tr>\n",
       "  </thead>\n",
       "  <tbody>\n",
       "    <tr>\n",
       "      <th>0</th>\n",
       "      <td>2018/06/30</td>\n",
       "      <td>GOA</td>\n",
       "      <td>SOUTH GOA</td>\n",
       "      <td>8.15</td>\n",
       "      <td>-</td>\n",
       "      <td>69.08</td>\n",
       "      <td>42.967552</td>\n",
       "    </tr>\n",
       "    <tr>\n",
       "      <th>1</th>\n",
       "      <td>2018/06/30</td>\n",
       "      <td>GOA</td>\n",
       "      <td>NORTH GOA</td>\n",
       "      <td>5.67</td>\n",
       "      <td>-</td>\n",
       "      <td>47.87</td>\n",
       "      <td>42.745536</td>\n",
       "    </tr>\n",
       "    <tr>\n",
       "      <th>2</th>\n",
       "      <td>2018/06/29</td>\n",
       "      <td>GOA</td>\n",
       "      <td>SOUTH GOA</td>\n",
       "      <td>8.21</td>\n",
       "      <td>-</td>\n",
       "      <td>69.71</td>\n",
       "      <td>43.652440</td>\n",
       "    </tr>\n",
       "    <tr>\n",
       "      <th>3</th>\n",
       "      <td>2018/06/29</td>\n",
       "      <td>GOA</td>\n",
       "      <td>NORTH GOA</td>\n",
       "      <td>5.64</td>\n",
       "      <td>-</td>\n",
       "      <td>47.69</td>\n",
       "      <td>43.314815</td>\n",
       "    </tr>\n",
       "    <tr>\n",
       "      <th>4</th>\n",
       "      <td>2018/06/28</td>\n",
       "      <td>GOA</td>\n",
       "      <td>SOUTH GOA</td>\n",
       "      <td>8.14</td>\n",
       "      <td>-</td>\n",
       "      <td>69.13</td>\n",
       "      <td>43.733764</td>\n",
       "    </tr>\n",
       "  </tbody>\n",
       "</table>\n",
       "</div>"
      ],
      "text/plain": [
       "         Date State Name DistrictName  Average Soilmoisture Level (at 15cm)  \\\n",
       "0  2018/06/30        GOA    SOUTH GOA                                  8.15   \n",
       "1  2018/06/30        GOA    NORTH GOA                                  5.67   \n",
       "2  2018/06/29        GOA    SOUTH GOA                                  8.21   \n",
       "3  2018/06/29        GOA    NORTH GOA                                  5.64   \n",
       "4  2018/06/28        GOA    SOUTH GOA                                  8.14   \n",
       "\n",
       "  Average SoilMoisture Volume (at 15cm)  \\\n",
       "0                                     -   \n",
       "1                                     -   \n",
       "2                                     -   \n",
       "3                                     -   \n",
       "4                                     -   \n",
       "\n",
       "   Aggregate Soilmoisture Percentage (at 15cm)  \\\n",
       "0                                        69.08   \n",
       "1                                        47.87   \n",
       "2                                        69.71   \n",
       "3                                        47.69   \n",
       "4                                        69.13   \n",
       "\n",
       "   Volume Soilmoisture percentage (at 15cm)  \n",
       "0                                 42.967552  \n",
       "1                                 42.745536  \n",
       "2                                 43.652440  \n",
       "3                                 43.314815  \n",
       "4                                 43.733764  "
      ]
     },
     "execution_count": 44,
     "metadata": {},
     "output_type": "execute_result"
    }
   ],
   "source": [
    "df_sm_18.head()#display the 2018 data for refrence"
   ]
  },
  {
   "cell_type": "code",
   "execution_count": 45,
   "metadata": {},
   "outputs": [
    {
     "data": {
      "text/html": [
       "<div>\n",
       "<style scoped>\n",
       "    .dataframe tbody tr th:only-of-type {\n",
       "        vertical-align: middle;\n",
       "    }\n",
       "\n",
       "    .dataframe tbody tr th {\n",
       "        vertical-align: top;\n",
       "    }\n",
       "\n",
       "    .dataframe thead th {\n",
       "        text-align: right;\n",
       "    }\n",
       "</style>\n",
       "<table border=\"1\" class=\"dataframe\">\n",
       "  <thead>\n",
       "    <tr style=\"text-align: right;\">\n",
       "      <th></th>\n",
       "      <th>Date</th>\n",
       "      <th>State Name</th>\n",
       "      <th>DistrictName</th>\n",
       "      <th>Average Soilmoisture Level (at 15cm)</th>\n",
       "      <th>Average SoilMoisture Volume (at 15cm)</th>\n",
       "      <th>Aggregate Soilmoisture Percentage (at 15cm)</th>\n",
       "      <th>Volume Soilmoisture percentage (at 15cm)</th>\n",
       "    </tr>\n",
       "  </thead>\n",
       "  <tbody>\n",
       "    <tr>\n",
       "      <th>0</th>\n",
       "      <td>2020/01/31</td>\n",
       "      <td>GOA</td>\n",
       "      <td>SOUTH GOA</td>\n",
       "      <td>0.0</td>\n",
       "      <td>143.22</td>\n",
       "      <td>0.0</td>\n",
       "      <td>14.100070</td>\n",
       "    </tr>\n",
       "    <tr>\n",
       "      <th>1</th>\n",
       "      <td>2020/01/31</td>\n",
       "      <td>GOA</td>\n",
       "      <td>NORTH GOA</td>\n",
       "      <td>0.0</td>\n",
       "      <td>103.34</td>\n",
       "      <td>0.0</td>\n",
       "      <td>11.821571</td>\n",
       "    </tr>\n",
       "    <tr>\n",
       "      <th>2</th>\n",
       "      <td>2020/01/30</td>\n",
       "      <td>GOA</td>\n",
       "      <td>SOUTH GOA</td>\n",
       "      <td>0.0</td>\n",
       "      <td>143.64</td>\n",
       "      <td>0.0</td>\n",
       "      <td>14.141436</td>\n",
       "    </tr>\n",
       "    <tr>\n",
       "      <th>3</th>\n",
       "      <td>2020/01/30</td>\n",
       "      <td>GOA</td>\n",
       "      <td>NORTH GOA</td>\n",
       "      <td>0.0</td>\n",
       "      <td>103.73</td>\n",
       "      <td>0.0</td>\n",
       "      <td>11.866049</td>\n",
       "    </tr>\n",
       "    <tr>\n",
       "      <th>4</th>\n",
       "      <td>2020/01/29</td>\n",
       "      <td>GOA</td>\n",
       "      <td>SOUTH GOA</td>\n",
       "      <td>0.0</td>\n",
       "      <td>144.17</td>\n",
       "      <td>0.0</td>\n",
       "      <td>14.193610</td>\n",
       "    </tr>\n",
       "  </tbody>\n",
       "</table>\n",
       "</div>"
      ],
      "text/plain": [
       "         Date State Name DistrictName  Average Soilmoisture Level (at 15cm)  \\\n",
       "0  2020/01/31        GOA    SOUTH GOA                                   0.0   \n",
       "1  2020/01/31        GOA    NORTH GOA                                   0.0   \n",
       "2  2020/01/30        GOA    SOUTH GOA                                   0.0   \n",
       "3  2020/01/30        GOA    NORTH GOA                                   0.0   \n",
       "4  2020/01/29        GOA    SOUTH GOA                                   0.0   \n",
       "\n",
       "   Average SoilMoisture Volume (at 15cm)  \\\n",
       "0                                 143.22   \n",
       "1                                 103.34   \n",
       "2                                 143.64   \n",
       "3                                 103.73   \n",
       "4                                 144.17   \n",
       "\n",
       "   Aggregate Soilmoisture Percentage (at 15cm)  \\\n",
       "0                                          0.0   \n",
       "1                                          0.0   \n",
       "2                                          0.0   \n",
       "3                                          0.0   \n",
       "4                                          0.0   \n",
       "\n",
       "   Volume Soilmoisture percentage (at 15cm)  \n",
       "0                                 14.100070  \n",
       "1                                 11.821571  \n",
       "2                                 14.141436  \n",
       "3                                 11.866049  \n",
       "4                                 14.193610  "
      ]
     },
     "execution_count": 45,
     "metadata": {},
     "output_type": "execute_result"
    }
   ],
   "source": [
    "df_sm_20.head()#dislay the 2020 data for refrence"
   ]
  },
  {
   "cell_type": "code",
   "execution_count": 46,
   "metadata": {},
   "outputs": [
    {
     "data": {
      "text/plain": [
       "3424"
      ]
     },
     "execution_count": 46,
     "metadata": {},
     "output_type": "execute_result"
    }
   ],
   "source": [
    "df_sm_18.shape[0]#total number of entries in the data set"
   ]
  },
  {
   "cell_type": "code",
   "execution_count": 47,
   "metadata": {},
   "outputs": [
    {
     "data": {
      "text/plain": [
       "496"
      ]
     },
     "execution_count": 47,
     "metadata": {},
     "output_type": "execute_result"
    }
   ],
   "source": [
    "df_sm_20.shape[0]#total number of entries in the data set"
   ]
  },
  {
   "cell_type": "markdown",
   "metadata": {},
   "source": [
    "we will drop the columns State Name, Average Soilmoisture Level (at 15cm), Average SoilMoisture Volume (at 15cm), Aggregate Soilmoisture Percentage (at 15cm) and only work with Date, District name and Volume Soilmoisture percentage (at 15cm) "
   ]
  },
  {
   "cell_type": "code",
   "execution_count": 48,
   "metadata": {},
   "outputs": [
    {
     "data": {
      "text/html": [
       "<div>\n",
       "<style scoped>\n",
       "    .dataframe tbody tr th:only-of-type {\n",
       "        vertical-align: middle;\n",
       "    }\n",
       "\n",
       "    .dataframe tbody tr th {\n",
       "        vertical-align: top;\n",
       "    }\n",
       "\n",
       "    .dataframe thead th {\n",
       "        text-align: right;\n",
       "    }\n",
       "</style>\n",
       "<table border=\"1\" class=\"dataframe\">\n",
       "  <thead>\n",
       "    <tr style=\"text-align: right;\">\n",
       "      <th></th>\n",
       "      <th>Date</th>\n",
       "      <th>DistrictName</th>\n",
       "      <th>Volume Soilmoisture percentage (at 15cm)</th>\n",
       "    </tr>\n",
       "  </thead>\n",
       "  <tbody>\n",
       "    <tr>\n",
       "      <th>0</th>\n",
       "      <td>2018/06/30</td>\n",
       "      <td>SOUTH GOA</td>\n",
       "      <td>42.967552</td>\n",
       "    </tr>\n",
       "    <tr>\n",
       "      <th>1</th>\n",
       "      <td>2018/06/30</td>\n",
       "      <td>NORTH GOA</td>\n",
       "      <td>42.745536</td>\n",
       "    </tr>\n",
       "    <tr>\n",
       "      <th>2</th>\n",
       "      <td>2018/06/29</td>\n",
       "      <td>SOUTH GOA</td>\n",
       "      <td>43.652440</td>\n",
       "    </tr>\n",
       "    <tr>\n",
       "      <th>3</th>\n",
       "      <td>2018/06/29</td>\n",
       "      <td>NORTH GOA</td>\n",
       "      <td>43.314815</td>\n",
       "    </tr>\n",
       "    <tr>\n",
       "      <th>4</th>\n",
       "      <td>2018/06/28</td>\n",
       "      <td>SOUTH GOA</td>\n",
       "      <td>43.733764</td>\n",
       "    </tr>\n",
       "  </tbody>\n",
       "</table>\n",
       "</div>"
      ],
      "text/plain": [
       "         Date DistrictName  Volume Soilmoisture percentage (at 15cm)\n",
       "0  2018/06/30    SOUTH GOA                                 42.967552\n",
       "1  2018/06/30    NORTH GOA                                 42.745536\n",
       "2  2018/06/29    SOUTH GOA                                 43.652440\n",
       "3  2018/06/29    NORTH GOA                                 43.314815\n",
       "4  2018/06/28    SOUTH GOA                                 43.733764"
      ]
     },
     "execution_count": 48,
     "metadata": {},
     "output_type": "execute_result"
    }
   ],
   "source": [
    "df_sm_18=df_sm_18.drop([\"State Name\",\"Average Soilmoisture Level (at 15cm)\", \"Average SoilMoisture Volume (at 15cm)\",\"Aggregate Soilmoisture Percentage (at 15cm)\"], axis=1)\n",
    "df_sm_18.head()"
   ]
  },
  {
   "cell_type": "code",
   "execution_count": 49,
   "metadata": {},
   "outputs": [
    {
     "data": {
      "text/html": [
       "<div>\n",
       "<style scoped>\n",
       "    .dataframe tbody tr th:only-of-type {\n",
       "        vertical-align: middle;\n",
       "    }\n",
       "\n",
       "    .dataframe tbody tr th {\n",
       "        vertical-align: top;\n",
       "    }\n",
       "\n",
       "    .dataframe thead th {\n",
       "        text-align: right;\n",
       "    }\n",
       "</style>\n",
       "<table border=\"1\" class=\"dataframe\">\n",
       "  <thead>\n",
       "    <tr style=\"text-align: right;\">\n",
       "      <th></th>\n",
       "      <th>Date</th>\n",
       "      <th>DistrictName</th>\n",
       "      <th>Volume Soilmoisture percentage (at 15cm)</th>\n",
       "    </tr>\n",
       "  </thead>\n",
       "  <tbody>\n",
       "    <tr>\n",
       "      <th>0</th>\n",
       "      <td>2020/01/31</td>\n",
       "      <td>SOUTH GOA</td>\n",
       "      <td>14.100070</td>\n",
       "    </tr>\n",
       "    <tr>\n",
       "      <th>1</th>\n",
       "      <td>2020/01/31</td>\n",
       "      <td>NORTH GOA</td>\n",
       "      <td>11.821571</td>\n",
       "    </tr>\n",
       "    <tr>\n",
       "      <th>2</th>\n",
       "      <td>2020/01/30</td>\n",
       "      <td>SOUTH GOA</td>\n",
       "      <td>14.141436</td>\n",
       "    </tr>\n",
       "    <tr>\n",
       "      <th>3</th>\n",
       "      <td>2020/01/30</td>\n",
       "      <td>NORTH GOA</td>\n",
       "      <td>11.866049</td>\n",
       "    </tr>\n",
       "    <tr>\n",
       "      <th>4</th>\n",
       "      <td>2020/01/29</td>\n",
       "      <td>SOUTH GOA</td>\n",
       "      <td>14.193610</td>\n",
       "    </tr>\n",
       "  </tbody>\n",
       "</table>\n",
       "</div>"
      ],
      "text/plain": [
       "         Date DistrictName  Volume Soilmoisture percentage (at 15cm)\n",
       "0  2020/01/31    SOUTH GOA                                 14.100070\n",
       "1  2020/01/31    NORTH GOA                                 11.821571\n",
       "2  2020/01/30    SOUTH GOA                                 14.141436\n",
       "3  2020/01/30    NORTH GOA                                 11.866049\n",
       "4  2020/01/29    SOUTH GOA                                 14.193610"
      ]
     },
     "execution_count": 49,
     "metadata": {},
     "output_type": "execute_result"
    }
   ],
   "source": [
    "df_sm_20=df_sm_20.drop([\"State Name\",\"Average Soilmoisture Level (at 15cm)\", \"Average SoilMoisture Volume (at 15cm)\",\"Aggregate Soilmoisture Percentage (at 15cm)\"], axis=1)\n",
    "df_sm_20.head()"
   ]
  },
  {
   "cell_type": "markdown",
   "metadata": {},
   "source": [
    "Now that the unnecessary columns are dropped, will focus on dealing with null values and clean the data"
   ]
  },
  {
   "cell_type": "code",
   "execution_count": 50,
   "metadata": {},
   "outputs": [
    {
     "data": {
      "text/plain": [
       "Date                                        2996\n",
       "DistrictName                                2996\n",
       "Volume Soilmoisture percentage (at 15cm)    2996\n",
       "dtype: int64"
      ]
     },
     "execution_count": 50,
     "metadata": {},
     "output_type": "execute_result"
    }
   ],
   "source": [
    "#checking for null values\n",
    "df_sm_18.isnull().sum()"
   ]
  },
  {
   "cell_type": "code",
   "execution_count": 51,
   "metadata": {},
   "outputs": [
    {
     "data": {
      "text/plain": [
       "Date                                        0\n",
       "DistrictName                                0\n",
       "Volume Soilmoisture percentage (at 15cm)    0\n",
       "dtype: int64"
      ]
     },
     "execution_count": 51,
     "metadata": {},
     "output_type": "execute_result"
    }
   ],
   "source": [
    "#checking for null values\n",
    "df_sm_20.isnull().sum()"
   ]
  },
  {
   "cell_type": "markdown",
   "metadata": {},
   "source": [
    "There are 2996 entries with null values in the 2018 soilmoisture records so we will drop the rows with these null values"
   ]
  },
  {
   "cell_type": "code",
   "execution_count": 52,
   "metadata": {},
   "outputs": [
    {
     "data": {
      "text/plain": [
       "Date                                        0\n",
       "DistrictName                                0\n",
       "Volume Soilmoisture percentage (at 15cm)    0\n",
       "dtype: int64"
      ]
     },
     "execution_count": 52,
     "metadata": {},
     "output_type": "execute_result"
    }
   ],
   "source": [
    "#drops the rows with the null values and then checks for null values(since it is 0 it means that there are no null values)\n",
    "df_sm_18=df_sm_18.dropna()\n",
    "df_sm_18.isnull().sum()\n",
    "# df_sm_18.shape[0]"
   ]
  },
  {
   "cell_type": "code",
   "execution_count": 53,
   "metadata": {},
   "outputs": [
    {
     "data": {
      "text/html": [
       "<div>\n",
       "<style scoped>\n",
       "    .dataframe tbody tr th:only-of-type {\n",
       "        vertical-align: middle;\n",
       "    }\n",
       "\n",
       "    .dataframe tbody tr th {\n",
       "        vertical-align: top;\n",
       "    }\n",
       "\n",
       "    .dataframe thead th {\n",
       "        text-align: right;\n",
       "    }\n",
       "</style>\n",
       "<table border=\"1\" class=\"dataframe\">\n",
       "  <thead>\n",
       "    <tr style=\"text-align: right;\">\n",
       "      <th></th>\n",
       "      <th>date</th>\n",
       "      <th>district</th>\n",
       "      <th>vol_sm_percentage</th>\n",
       "    </tr>\n",
       "  </thead>\n",
       "  <tbody>\n",
       "    <tr>\n",
       "      <th>0</th>\n",
       "      <td>2018/06/30</td>\n",
       "      <td>SOUTH GOA</td>\n",
       "      <td>42.967552</td>\n",
       "    </tr>\n",
       "    <tr>\n",
       "      <th>1</th>\n",
       "      <td>2018/06/30</td>\n",
       "      <td>NORTH GOA</td>\n",
       "      <td>42.745536</td>\n",
       "    </tr>\n",
       "    <tr>\n",
       "      <th>2</th>\n",
       "      <td>2018/06/29</td>\n",
       "      <td>SOUTH GOA</td>\n",
       "      <td>43.652440</td>\n",
       "    </tr>\n",
       "    <tr>\n",
       "      <th>3</th>\n",
       "      <td>2018/06/29</td>\n",
       "      <td>NORTH GOA</td>\n",
       "      <td>43.314815</td>\n",
       "    </tr>\n",
       "    <tr>\n",
       "      <th>4</th>\n",
       "      <td>2018/06/28</td>\n",
       "      <td>SOUTH GOA</td>\n",
       "      <td>43.733764</td>\n",
       "    </tr>\n",
       "  </tbody>\n",
       "</table>\n",
       "</div>"
      ],
      "text/plain": [
       "         date   district  vol_sm_percentage\n",
       "0  2018/06/30  SOUTH GOA          42.967552\n",
       "1  2018/06/30  NORTH GOA          42.745536\n",
       "2  2018/06/29  SOUTH GOA          43.652440\n",
       "3  2018/06/29  NORTH GOA          43.314815\n",
       "4  2018/06/28  SOUTH GOA          43.733764"
      ]
     },
     "execution_count": 53,
     "metadata": {},
     "output_type": "execute_result"
    }
   ],
   "source": [
    "#rename the column to make it easier to work with \n",
    "df_sm_18=df_sm_18.rename(columns={\"Date\":\"date\",\"DistrictName\":\"district\",\"Volume Soilmoisture percentage (at 15cm)\":\"vol_sm_percentage\"})\n",
    "df_sm_18.head()"
   ]
  },
  {
   "cell_type": "code",
   "execution_count": 54,
   "metadata": {},
   "outputs": [
    {
     "data": {
      "text/html": [
       "<div>\n",
       "<style scoped>\n",
       "    .dataframe tbody tr th:only-of-type {\n",
       "        vertical-align: middle;\n",
       "    }\n",
       "\n",
       "    .dataframe tbody tr th {\n",
       "        vertical-align: top;\n",
       "    }\n",
       "\n",
       "    .dataframe thead th {\n",
       "        text-align: right;\n",
       "    }\n",
       "</style>\n",
       "<table border=\"1\" class=\"dataframe\">\n",
       "  <thead>\n",
       "    <tr style=\"text-align: right;\">\n",
       "      <th></th>\n",
       "      <th>date</th>\n",
       "      <th>district</th>\n",
       "      <th>vol_sm_percentage</th>\n",
       "    </tr>\n",
       "  </thead>\n",
       "  <tbody>\n",
       "    <tr>\n",
       "      <th>0</th>\n",
       "      <td>2020/01/31</td>\n",
       "      <td>SOUTH GOA</td>\n",
       "      <td>14.100070</td>\n",
       "    </tr>\n",
       "    <tr>\n",
       "      <th>1</th>\n",
       "      <td>2020/01/31</td>\n",
       "      <td>NORTH GOA</td>\n",
       "      <td>11.821571</td>\n",
       "    </tr>\n",
       "    <tr>\n",
       "      <th>2</th>\n",
       "      <td>2020/01/30</td>\n",
       "      <td>SOUTH GOA</td>\n",
       "      <td>14.141436</td>\n",
       "    </tr>\n",
       "    <tr>\n",
       "      <th>3</th>\n",
       "      <td>2020/01/30</td>\n",
       "      <td>NORTH GOA</td>\n",
       "      <td>11.866049</td>\n",
       "    </tr>\n",
       "    <tr>\n",
       "      <th>4</th>\n",
       "      <td>2020/01/29</td>\n",
       "      <td>SOUTH GOA</td>\n",
       "      <td>14.193610</td>\n",
       "    </tr>\n",
       "  </tbody>\n",
       "</table>\n",
       "</div>"
      ],
      "text/plain": [
       "         date   district  vol_sm_percentage\n",
       "0  2020/01/31  SOUTH GOA          14.100070\n",
       "1  2020/01/31  NORTH GOA          11.821571\n",
       "2  2020/01/30  SOUTH GOA          14.141436\n",
       "3  2020/01/30  NORTH GOA          11.866049\n",
       "4  2020/01/29  SOUTH GOA          14.193610"
      ]
     },
     "execution_count": 54,
     "metadata": {},
     "output_type": "execute_result"
    }
   ],
   "source": [
    "#rename the column to make it easier to work with \n",
    "df_sm_20=df_sm_20.rename(columns={\"Date\":\"date\",\"DistrictName\":\"district\",\"Volume Soilmoisture percentage (at 15cm)\":\"vol_sm_percentage\"})\n",
    "df_sm_20.head()"
   ]
  },
  {
   "cell_type": "markdown",
   "metadata": {},
   "source": [
    "Now that the data is somewhat clean we will plot graphs to see trends"
   ]
  },
  {
   "cell_type": "code",
   "execution_count": 66,
   "metadata": {},
   "outputs": [
    {
     "data": {
      "text/plain": [
       "<matplotlib.legend.Legend at 0x24e7e99bb90>"
      ]
     },
     "execution_count": 66,
     "metadata": {},
     "output_type": "execute_result"
    },
    {
     "data": {
      "image/png": "[encoded data removed]",
      "text/plain": [
       "<Figure size 640x480 with 1 Axes>"
      ]
     },
     "metadata": {},
     "output_type": "display_data"
    }
   ],
   "source": [
    "sns.histplot(df_sm_18[\"vol_sm_percentage\"],label=\"2018\", color=\"red\", alpha=0.5,bins=10)\n",
    "sns.histplot(df_sm_20[\"vol_sm_percentage\"],label=\"2020\", color=\"blue\",alpha=0.5,bins=10)\n",
    "plt.legend()"
   ]
  },
  {
   "cell_type": "code",
   "execution_count": 67,
   "metadata": {},
   "outputs": [
    {
     "data": {
      "text/plain": [
       "<matplotlib.legend.Legend at 0x24e76c80090>"
      ]
     },
     "execution_count": 67,
     "metadata": {},
     "output_type": "execute_result"
    },
    {
     "data": {
      "image/png": "[encoded data removed]",
      "text/plain": [
       "<Figure size 640x480 with 1 Axes>"
      ]
     },
     "metadata": {},
     "output_type": "display_data"
    }
   ],
   "source": [
    "sns.violinplot(df_sm_18[\"vol_sm_percentage\"],label=\"2018\",color=\"red\",alpha=0.5)\n",
    "sns.violinplot(df_sm_20[\"vol_sm_percentage\"],label=\"2020\",color=\"blue\",alpha=0.5)\n",
    "plt.ylabel(\"Volume Soilmoisture percentage (at 15cm)\")\n",
    "plt.legend()"
   ]
  },
  {
   "cell_type": "code",
   "execution_count": 79,
   "metadata": {},
   "outputs": [
    {
     "name": "stdout",
     "output_type": "stream",
     "text": [
      "Average of Volume Soilmoisture percentage in 2018 is : 32.38125725824766\n",
      "Average of Volume Soilmoisture percentage in 2020 is : 23.900167474576612\n"
     ]
    }
   ],
   "source": [
    "#get average of Volume Soilmoisture percentage (at 15cm)\n",
    "goa_sm_18=df_sm_18[\"vol_sm_percentage\"].mean()\n",
    "goa_sm_18=str(goa_sm_18)#convert float to str (due to type error)\n",
    "print(\"Average of Volume Soilmoisture percentage in 2018 is : \"+goa_sm_18)\n",
    "\n",
    "goa_sm_20=df_sm_20[\"vol_sm_percentage\"].mean()\n",
    "goa_sm_20=str(goa_sm_20)#convert float to str (due to type error)\n",
    "print(\"Average of Volume Soilmoisture percentage in 2020 is : \"+goa_sm_20)\n"
   ]
  },
  {
   "cell_type": "code",
   "execution_count": 81,
   "metadata": {},
   "outputs": [
    {
     "name": "stdout",
     "output_type": "stream",
     "text": [
      "Average volume soilmoisture percentage of North Goa in 2018 is 32.06511609238317\n",
      "Average volume soilmoisture percentage of South Goa in 2018 is 32.697398424112144\n"
     ]
    }
   ],
   "source": [
    "north_goa_data_18 = df_sm_18[df_sm_18['district'].str.upper() == 'NORTH GOA']\n",
    "south_goa_data_18 = df_sm_18[df_sm_18['district'].str.upper() == 'SOUTH GOA']\n",
    "\n",
    "# Calculate the average volume soil moisture percentage\n",
    "north_goa_avg_18 = north_goa_data_18['vol_sm_percentage'].mean()\n",
    "south_goa_avg_18 = south_goa_data_18['vol_sm_percentage'].mean()\n",
    "north_goa_avg_18=str(north_goa_avg_18)\n",
    "south_goa_avg_18=str(south_goa_avg_18)\n",
    "print(\"Average volume soilmoisture percentage of North Goa in 2018 is \"+north_goa_avg_18)\n",
    "print(\"Average volume soilmoisture percentage of South Goa in 2018 is \"+south_goa_avg_18)"
   ]
  },
  {
   "cell_type": "code",
   "execution_count": 83,
   "metadata": {},
   "outputs": [
    {
     "name": "stdout",
     "output_type": "stream",
     "text": [
      "Average volume soilmoisture percentage of North Goa in 2020 is 23.107968565725812\n",
      "Average volume soilmoisture percentage of South Goa in 2020 is 24.69236638342742\n"
     ]
    }
   ],
   "source": [
    "north_goa_data_20 = df_sm_20[df_sm_20['district'].str.upper() == 'NORTH GOA']\n",
    "south_goa_data_20 = df_sm_20[df_sm_20['district'].str.upper() == 'SOUTH GOA']\n",
    "\n",
    "# Calculate the average volume soil moisture percentage\n",
    "north_goa_avg_20 = north_goa_data_20['vol_sm_percentage'].mean()\n",
    "south_goa_avg_20 = south_goa_data_20['vol_sm_percentage'].mean()\n",
    "north_goa_avg_20=str(north_goa_avg_20)\n",
    "south_goa_avg_20=str(south_goa_avg_20)\n",
    "print(\"Average volume soilmoisture percentage of North Goa in 2020 is \"+north_goa_avg_20)\n",
    "print(\"Average volume soilmoisture percentage of South Goa in 2020 is \"+south_goa_avg_20)"
   ]
  },
  {
   "cell_type": "markdown",
   "metadata": {},
   "source": [
    "We will try to see the veraitions in soil moisture percentage over the monthes for the years 2018 and 2020"
   ]
  },
  {
   "cell_type": "code",
   "execution_count": 87,
   "metadata": {},
   "outputs": [],
   "source": [
    "#convert the data in the dataframe to datetime format\n",
    "df_sm_18[\"date\"]=pd.to_datetime(df_sm_18[\"date\"])\n",
    "# df_sm_18.head()\n",
    "df_sm_18[\"month\"]=df_sm_18[\"date\"].dt.to_period(\"M\")\n",
    "#calculating the monthly average\n",
    "monthly_avg_18=df_sm_18.groupby(\"month\")[\"vol_sm_percentage\"].mean()\n",
    "# print(monthly_avg_18)\n"
   ]
  },
  {
   "cell_type": "code",
   "execution_count": 99,
   "metadata": {},
   "outputs": [
    {
     "data": {
      "image/png": "[encoded data removed]",
      "text/plain": [
       "<Figure size 640x480 with 1 Axes>"
      ]
     },
     "metadata": {},
     "output_type": "display_data"
    }
   ],
   "source": [
    "#plot graph of monthly average\n",
    "plt.plot(monthly_avg_18.index.astype(str), monthly_avg_18.values,marker='o')\n",
    "plt.xlabel(\"Months\")\n",
    "plt.ylabel(\"Average soilmoisture percentage\")\n",
    "plt.title(\"Average volume soilmoisture percentage for 2018 from 6/2018 to 12/2018\")\n",
    "plt.xticks(rotation=45)\n",
    "plt.grid(True)\n",
    "plt.show()"
   ]
  },
  {
   "cell_type": "code",
   "execution_count": 90,
   "metadata": {},
   "outputs": [],
   "source": [
    "#convert the data in the dataframe to datetime format\n",
    "df_sm_20[\"date\"]=pd.to_datetime(df_sm_20[\"date\"])\n",
    "df_sm_20[\"month\"]=df_sm_20[\"date\"].dt.to_period(\"M\")\n",
    "#calculating the monthly average\n",
    "monthly_avg_20=df_sm_20.groupby(\"month\")[\"vol_sm_percentage\"].mean()"
   ]
  },
  {
   "cell_type": "code",
   "execution_count": 101,
   "metadata": {},
   "outputs": [
    {
     "data": {
      "image/png": "[encoded data removed]",
      "text/plain": [
       "<Figure size 640x480 with 1 Axes>"
      ]
     },
     "metadata": {},
     "output_type": "display_data"
    }
   ],
   "source": [
    "#plot graph of monthly average\n",
    "plt.plot(monthly_avg_20.index.astype(str), monthly_avg_20.values,marker='o')\n",
    "plt.xlabel(\"Months\")\n",
    "plt.ylabel(\"Average soilmoisture percentage\")\n",
    "plt.title(\"Average volume soilmoisture percentage for 2020 from 1/2020 to 9/2020\")\n",
    "plt.xticks(rotation=45)\n",
    "plt.grid(True)\n",
    "plt.show()"
   ]
  },
  {
   "cell_type": "markdown",
   "metadata": {},
   "source": [
    "Both the histogram and violin plot indicate a notable shift in distribution between the years 2018 and 2020. In 2018, the distribution appears more spread out, whereas in 2020, there is a concentration towards lower values. \n",
    "\n",
    "*It's important to note that the 2018 data spans from June to December, while the 2020 data covers January to September, reflecting seasonal variations that significantly influence the recordings.*\n",
    "\n",
    "Seasonal changes clearly affect soil moisture percentages. The month-wise distribution for 2020 shows a substantial increase from May to June, whereas in 2018, there is a downward trend leading up to December.\n",
    "\n",
    "Average Soil Moisture:\n",
    "2018:\n",
    "North Goa: 32.07%\n",
    "South Goa: 32.70%\n",
    "Overall Average: 32.38%\n",
    "2020:\n",
    "North Goa: 23.11%\n",
    "South Goa: 24.69%\n",
    "Overall Average: 23.90%\n",
    "\n",
    "\n",
    "\n",
    "link to data source- https://data.gov.in/search"
   ]
  }
 ],
 "metadata": {
  "kernelspec": {
   "display_name": "Python 3",
   "language": "python",
   "name": "python3"
  },
  "language_info": {
   "codemirror_mode": {
    "name": "ipython",
    "version": 3
   },
   "file_extension": ".py",
   "mimetype": "text/x-python",
   "name": "python",
   "nbconvert_exporter": "python",
   "pygments_lexer": "ipython3",
   "version": "3.11.4"
  }
 },
 "nbformat": 4,
 "nbformat_minor": 2
}
